{
  "cells": [
    {
      "cell_type": "markdown",
      "metadata": {
        "id": "30327e3a"
      },
      "source": [
        "# 🚀 Exploring the openai-agents Library with Gemini\n",
        "This notebook shows how to use the openai-agents library with Gemini API to build conversational agents—covering two execution methods"
      ]
    },
    {
      "cell_type": "markdown",
      "metadata": {
        "id": "wd12XkqwSRxc"
      },
      "source": [
        "# 📦 installation"
      ]
    },
    {
      "cell_type": "code",
      "execution_count": 1,
      "metadata": {
        "id": "8U2DuZP0_1Iu",
        "colab": {
          "base_uri": "https://localhost:8080/"
        },
        "outputId": "50be0e6a-6faf-4a63-97ef-dab6900397c2"
      },
      "outputs": [
        {
          "output_type": "stream",
          "name": "stdout",
          "text": [
            "\u001b[?25l   \u001b[90m━━━━━━━━━━━━━━━━━━━━━━━━━━━━━━━━━━━━━━━━\u001b[0m \u001b[32m0.0/193.9 kB\u001b[0m \u001b[31m?\u001b[0m eta \u001b[36m-:--:--\u001b[0m\r\u001b[2K   \u001b[90m━━━━━━━━━━━━━━━━━━━━━━━━━━━━━━━━━━━━━━━━\u001b[0m \u001b[32m193.9/193.9 kB\u001b[0m \u001b[31m9.2 MB/s\u001b[0m eta \u001b[36m0:00:00\u001b[0m\n",
            "\u001b[?25h\u001b[?25l   \u001b[90m━━━━━━━━━━━━━━━━━━━━━━━━━━━━━━━━━━━━━━━━\u001b[0m \u001b[32m0.0/144.4 kB\u001b[0m \u001b[31m?\u001b[0m eta \u001b[36m-:--:--\u001b[0m\r\u001b[2K   \u001b[90m━━━━━━━━━━━━━━━━━━━━━━━━━━━━━━━━━━━━━━━━\u001b[0m \u001b[32m144.4/144.4 kB\u001b[0m \u001b[31m6.4 MB/s\u001b[0m eta \u001b[36m0:00:00\u001b[0m\n",
            "\u001b[?25h\u001b[?25l   \u001b[90m━━━━━━━━━━━━━━━━━━━━━━━━━━━━━━━━━━━━━━━━\u001b[0m \u001b[32m0.0/948.4 kB\u001b[0m \u001b[31m?\u001b[0m eta \u001b[36m-:--:--\u001b[0m\r\u001b[2K   \u001b[90m━━━━━━━━━━━━━━━━━━━━━━━━━━━━━━━━━━━━━━━━\u001b[0m \u001b[32m948.4/948.4 kB\u001b[0m \u001b[31m32.9 MB/s\u001b[0m eta \u001b[36m0:00:00\u001b[0m\n",
            "\u001b[?25h"
          ]
        }
      ],
      "source": [
        "!pip install -Uq openai-agents"
      ]
    },
    {
      "cell_type": "markdown",
      "metadata": {
        "id": "jL-reb6RR_H6"
      },
      "source": [
        "# 📦 Imports"
      ]
    },
    {
      "cell_type": "code",
      "execution_count": 2,
      "metadata": {
        "id": "OE_-gMwUDw8b"
      },
      "outputs": [],
      "source": [
        "import nest_asyncio\n",
        "nest_asyncio.apply()"
      ]
    },
    {
      "cell_type": "markdown",
      "metadata": {
        "id": "MywTysH-Rn2h"
      },
      "source": [
        "# 📦 Imports"
      ]
    },
    {
      "cell_type": "code",
      "execution_count": 3,
      "metadata": {
        "id": "dvNo75PtD5YL"
      },
      "outputs": [],
      "source": [
        "from agents import Agent, Runner, AsyncOpenAI, OpenAIChatCompletionsModel, set_tracing_disabled"
      ]
    },
    {
      "cell_type": "markdown",
      "metadata": {
        "id": "uO3deejXRZw8"
      },
      "source": [
        "# 🔐 Step 1: Setup for Api Keys"
      ]
    },
    {
      "cell_type": "code",
      "execution_count": 4,
      "metadata": {
        "id": "9p1ynoc0EDCx"
      },
      "outputs": [],
      "source": [
        "from google.colab import userdata\n",
        "gemini_api_key = userdata.get(\"GEMINI__API_KEY\")\n"
      ]
    },
    {
      "cell_type": "markdown",
      "metadata": {
        "id": "S4GITaFOP526"
      },
      "source": [
        "# 🌐  Step 2: Client Setup for Connecting to **Gemini**"
      ]
    },
    {
      "cell_type": "code",
      "execution_count": 5,
      "metadata": {
        "id": "IofWknGLEHHI"
      },
      "outputs": [],
      "source": [
        "# Tracing disabled\n",
        "set_tracing_disabled(disabled=True)\n",
        "\n",
        "# 1. Which LLM Service?\n",
        "external_client: AsyncOpenAI = AsyncOpenAI(\n",
        "    api_key=gemini_api_key,\n",
        "    base_url=\"https://generativelanguage.googleapis.com/v1beta/openai/\",\n",
        ")\n",
        "\n",
        "# 2. Which LLM Model?\n",
        "llm_model: OpenAIChatCompletionsModel = OpenAIChatCompletionsModel(\n",
        "    model=\"gemini-2.5-flash\",\n",
        "    openai_client=external_client\n",
        ")"
      ]
    },
    {
      "cell_type": "markdown",
      "metadata": {
        "id": "Upg62mcUJUB4"
      },
      "source": [
        "# 💬  Step 3 Running Agent Synchronously"
      ]
    },
    {
      "cell_type": "code",
      "execution_count": 7,
      "metadata": {
        "colab": {
          "base_uri": "https://localhost:8080/"
        },
        "collapsed": true,
        "id": "4QgfJqHZJV_M",
        "outputId": "005a82eb-f889-4b43-9195-b18df9511c13"
      },
      "outputs": [
        {
          "output_type": "stream",
          "name": "stdout",
          "text": [
            "\n",
            "CALLING AGENT\n",
            "\n",
            "The continuous drive to reduce aircraft engine noise is a critical aspect of commercial aviation, driven by environmental regulations (e.g., ICAO Chapter 14) and community concerns. Modern commercial aircraft engines, predominantly high-bypass turbofans, have made significant strides in noise reduction compared to their predecessors.\n",
            "\n",
            "Here are the latest technologies and ongoing research directions for decreasing the sound of commercial aircraft engines:\n",
            "\n",
            "---\n",
            "\n",
            "### Core Principles & Fundamental Technologies\n",
            "\n",
            "Before diving into the \"latest,\" it's crucial to understand the fundamental design choice that has had the most significant impact on noise reduction:\n",
            "\n",
            "1.  **High Bypass Ratio (HBR):** This is the single most important factor. High-bypass turbofans move a large volume of air around the core engine (bypass air) at a relatively slow speed, while the core engine exhaust speed is much lower than in older turbojets or low-bypass turbofans. Jet noise scales with the eighth power of jet velocity ($V^8$), so even small reductions in exhaust speed yield significant noise reductions. Modern engines have bypass ratios exceeding 10:1 (e.g., GE9X has ~10:1, Pratt & Whitney GTF can achieve higher effective bypass ratios).\n",
            "\n",
            "---\n",
            "\n",
            "### Latest Technologies & Research Directions\n",
            "\n",
            "Building upon the HBR principle, the following technologies are being actively developed and implemented:\n",
            "\n",
            "1.  **Advanced Fan Blade Aerodynamics:**\n",
            "    *   **Swept and Leaned Blades:** Modern fan blades are highly sculpted, featuring sweep and lean (often both forward and aft) to optimize airflow and reduce noise generated by the fan. This design reduces tip speed, minimizes shock waves, and improves the interaction between the fan and the inlet/outlet flow, thereby reducing broadband and tonal noise.\n",
            "    *   **Reduced Fan Tip Speed:** Designing fans for lower tip speeds directly reduces the intensity of broadband noise and the Mach number of the flow, which lessens shock-related noise. This is often achieved through larger fan diameters, which allow for lower RPM for a given thrust.\n",
            "    *   **Example:** Engines like the **GE9X** (on the Boeing 777X) and **Rolls-Royce Trent XWB** (on the Airbus A350) feature highly optimized, large-diameter fans with advanced aerodynamic profiles.\n",
            "\n",
            "2.  **Acoustic Liners (Improved Performance & Active Concepts):**\n",
            "    *   **Broadband Acoustic Liners:** Traditional liners are most effective at specific frequencies. Latest research focuses on developing multi-layer, broadband liners capable of absorbing noise across a wider frequency spectrum, particularly the lower frequencies that are harder to attenuate. These often involve more complex cellular structures or different materials.\n",
            "    *   **Optimized Placement and Integration:** The strategic placement of liners within the nacelle (inlet, fan duct, exhaust) and optimization of their length and configuration are crucial.\n",
            "    *   **Active Acoustic Liners (Research):** While largely in the research phase for engine noise, active noise control (ANC) systems use microphones to detect sound and speakers to generate anti-phase sound waves, effectively canceling the noise. Applying this to high-energy engine environments is challenging but holds promise for targeted noise reduction, especially for specific tonal components.\n",
            "    *   **Example:** NASA's Advanced Air Transport Technology (AATT) project and various university research programs are exploring advanced liner concepts and active noise control for future aircraft.\n",
            "\n",
            "3.  **Chevrons (Not new, but continuously optimized):**\n",
            "    *   **Mechanism:** Small, serrated edges on the trailing edge of the engine's exhaust nozzle (both core and bypass streams). They promote earlier and faster mixing of the hot jet exhaust with the cooler ambient air (or bypass air), which reduces the large-scale turbulent structures that generate significant jet noise.\n",
            "    *   **Continuous Optimization:** While introduced over a decade ago, their design (number, size, shape, and angle) is continuously refined through computational fluid dynamics (CFD) and aeroacoustics simulations to achieve optimal noise reduction for specific engine types without significant performance penalties.\n",
            "    *   **Example:** Widely used on engines like the **GEnx** (Boeing 787, 747-8), **Rolls-Royce Trent 1000** (Boeing 787), and **CFM LEAP** (Airbus A320neo, Boeing 737 MAX).\n",
            "\n",
            "4.  **Geared Turbofan (GTF) Architecture:**\n",
            "    *   **Independent Fan Speed:** Pratt & Whitney's PurePower® Geared Turbofan (GTF) engine uses a gearbox to allow the fan to spin at a different (optimal, slower) speed than the low-pressure compressor and turbine. This enables both the fan and the low-pressure spool to operate at their most efficient speeds.\n",
            "    *   **Noise Reduction Benefit:** The slower fan speed directly contributes to significant reductions in fan noise. The ability to optimize the speeds of different components also allows for fewer stages in the compressor/turbine, reducing turbomachinery noise.\n",
            "    *   **Example:** **Pratt & Whitney PW1000G** series engines, used on the Airbus A320neo, Embraer E2-Jets, Mitsubishi SpaceJet, and Irkut MC-21.\n",
            "\n",
            "5.  **Ultra-High Bypass Ratio (UHB) and Open Rotor Concepts:**\n",
            "    *   **Beyond Current HBR:** Research is pushing towards even higher bypass ratios (UHB) and, in some cases, open rotor (propfan) designs that have no nacelle around the fan. These designs move incredibly large volumes of air at very low speeds, fundamentally targeting jet noise by minimizing exhaust velocity.\n",
            "    *   **Noise Challenge:** While reducing jet noise, open rotors introduce new challenges related to fan-source noise, propeller-airframe interaction noise, and cabin noise. Significant research is focused on advanced blade designs (e.g., highly swept, counter-rotating) and acoustic treatment to mitigate these issues.\n",
            "    *   **Example:** NASA's **SUGAR (Subsonic Ultra Green Aircraft Research)** program, Europe's **Clean Sky** initiative, and **Safran/GE CFM RISE** program are actively exploring UHB and open rotor designs. The RISE program aims for a demonstrator engine by the mid-2020s.\n",
            "\n",
            "6.  **Advanced Nozzle Designs and Variable Geometry:**\n",
            "    *   **Variable Area Fan & Core Nozzles (VAFN/VACN):** These systems allow the exhaust nozzle area to change in flight. This enables optimization of engine performance (thrust, fuel efficiency) across different flight phases, but also has the potential to optimize for noise during critical phases like take-off and landing by tailoring exhaust velocities.\n",
            "    *   **Scalloped/Serrated Nozzles:** Beyond simple chevrons, more complex scalloped or serrated nozzle geometries are being investigated to enhance mixing and reduce noise.\n",
            "    *   **Example:** Research by NASA and engine manufacturers continues to explore the benefits of variable geometry nozzles for both performance and acoustic benefits.\n",
            "\n",
            "7.  **Engine-Airframe Integration and Shielding:**\n",
            "    *   **Unducted Fan (UDF) / Open Rotor Integration:** For future open rotor designs, integrating the engine over the wing (Over-Wing Engine, OWE) or in the empennage can utilize the airframe itself to block or \"shield\" the noise from reaching the ground.\n",
            "    *   **Boundary Layer Ingestion (BLI):** While primarily aimed at improving propulsive efficiency by ingesting slow-moving air from the fuselage boundary layer, BLI concepts can also affect noise propagation and potentially offer shielding benefits depending on integration. However, the non-uniform flow into the fan can also generate additional noise.\n",
            "    *   **Example:** NASA's N+3 aircraft concepts and DLR's research on future aircraft configurations explore different engine placements for noise reduction.\n",
            "\n",
            "8.  **Computational Aeroacoustics (CAA):**\n",
            "    *   **Enabling Technology:** This isn't a \"technology\" in the traditional sense, but it's a crucial tool. Advanced computational fluid dynamics (CFD) coupled with acoustic prediction methods allows engineers to simulate and predict engine noise generation and propagation with high fidelity. This enables rapid iteration and optimization of designs (fan blades, liners, chevrons, nozzles) before costly physical prototypes are built.\n",
            "    *   **Example:** All major engine manufacturers and research institutions heavily rely on CAA for the design and optimization of noise reduction features.\n",
            "\n",
            "---\n",
            "\n",
            "### Conclusion\n",
            "\n",
            "The latest efforts in reducing commercial aircraft engine noise are highly integrated, combining aerodynamic design, acoustic material science, and innovative engine architectures. The trend is towards larger, slower-spinning fans, highly optimized airflow management, and increasingly sophisticated passive and (potentially) active acoustic treatments. Future concepts like Ultra-High Bypass engines and open rotors, along with novel engine-airframe integration, represent the next frontier in the continuous quest for quieter air travel.\n",
            "\n",
            "---\n",
            "\n",
            "### References (Examples of reputable sources):\n",
            "\n",
            "1.  **GE Aviation:** Official website and technical publications regarding GEnx, GE9X, and CFM RISE program.\n",
            "    *   [GE Aviation Newsroom](https://www.geaviation.com/newsroom/)\n",
            "    *   [CFM RISE Program](https://www.cfm56.com/rise)\n",
            "2.  **Rolls-Royce:** Official website and technical documents on Trent series engines and UltraFan.\n",
            "    *   [Rolls-Royce Aerospace Noise Reduction](https://www.rolls-royce.com/sustainability/our-approach/products-and-solutions/reducing-emissions/noise-reduction.aspx)\n",
            "    *   [Rolls-Royce UltraFan](https://www.rolls-royce.com/products-and-services/civil-aerospace/ultrafan.aspx)\n",
            "3.  **Pratt & Whitney:** Official website and publications on the PurePower GTF engine.\n",
            "    *   [Pratt & Whitney Geared Turbofan](https://prattwhitney.com/technologies/gtf)\n",
            "4.  **NASA:** Various programs and research papers on aircraft noise reduction.\n",
            "    *   [NASA's Advanced Air Transport Technology (AATT) Project](https://www.nasa.gov/aeroresearch/programs/aatt)\n",
            "    *   [NASA Glenn Research Center - Aeroacoustics](https://www1.grc.nasa.gov/aeroacoustics/)\n",
            "5.  **International Civil Aviation Organization (ICAO):** Environmental Protection Standards and Recommended Practices, particularly Annex 16 – Environmental Protection.\n",
            "    *   [ICAO Environmental Protection](https://www.icao.int/environmental-protection/Pages/noise.aspx)\n",
            "6.  **AIAA Journal of Aircraft / Journal of Propulsion and Power:** Peer-reviewed technical papers on aerospace engineering, often covering noise reduction.\n",
            "7.  **European Union's Clean Sky Initiative:** Research programs for greener aviation technologies.\n",
            "    *   [Clean Sky Joint Undertaking](https://www.cleansky.eu/)\n"
          ]
        }
      ],
      "source": [
        "math_agent: Agent = Agent(name=\"Aerospace Engineering Expert\",\n",
        "                     instructions=\"You are a helpful assistant of Aerospace Design and Engineering.\",\n",
        "                     model=llm_model) # gemini-2.5 as agent brain - chat completions\n",
        "\n",
        "result: Runner = Runner.run_sync(math_agent, \"What is the latest technology being used for decreasing the sound of commercial aicraft engines? Explain it with References and avoid hallucination.\")\n",
        "\n",
        "print(\"\\nCALLING AGENT\\n\")\n",
        "print(result.final_output)"
      ]
    },
    {
      "cell_type": "code",
      "execution_count": null,
      "metadata": {
        "colab": {
          "base_uri": "https://localhost:8080/"
        },
        "collapsed": true,
        "id": "Z5oKiMPbd7BC",
        "outputId": "7bbe0ffe-9854-41a4-f729-c186167ab045"
      },
      "outputs": [
        {
          "data": {
            "text/plain": [
              "RunResult(input='why learn math for AI Agents?', new_items=[MessageOutputItem(agent=Agent(name='MathAgent', handoff_description=None, tools=[], mcp_servers=[], mcp_config={}, instructions='You are a helpful math assistant.', prompt=None, handoffs=[], model=<agents.models.openai_chatcompletions.OpenAIChatCompletionsModel object at 0x78430578a890>, model_settings=ModelSettings(temperature=None, top_p=None, frequency_penalty=None, presence_penalty=None, tool_choice=None, parallel_tool_calls=None, truncation=None, max_tokens=None, reasoning=None, metadata=None, store=None, include_usage=None, response_include=None, extra_query=None, extra_body=None, extra_headers=None, extra_args=None), input_guardrails=[], output_guardrails=[], output_type=None, hooks=None, tool_use_behavior='run_llm_again', reset_tool_choice=True), raw_item=ResponseOutputMessage(id='__fake_id__', content=[ResponseOutputText(annotations=[], text='Learning math is absolutely fundamental for anyone seriously pursuing a career in AI, particularly for those who want to do more than just use existing tools. Here\\'s why it\\'s crucial for AI agents:\\n\\n1.  **The Language of AI is Mathematics:**\\n    *   **Algorithms are Mathematical Constructs:** Every AI algorithm, from simple linear regression to complex deep neural networks, is fundamentally a mathematical model. Understanding the underlying math allows you to comprehend how these algorithms work, their limitations, and how to optimize them.\\n    *   **Data Representation:** Data (images, text, audio, sensor readings) is represented mathematically as vectors, matrices, and tensors. Linear algebra is the foundation for manipulating and transforming this data.\\n\\n2.  **Core Mathematical Disciplines and Their AI Applications:**\\n\\n    *   **Linear Algebra:**\\n        *   **Data Representation:** Vectors for word embeddings, matrices for images, tensors for video and complex neural network layers.\\n        *   **Transformations:** Rotations, scaling, translations vital for computer vision, robotics, and graph neural networks.\\n        *   **Dimensionality Reduction:** Techniques like PCA (Principal Component Analysis) are heavily based on eigenvalues and eigenvectors.\\n        *   **Neural Networks:** Matrix multiplications are the core operation in every layer of a neural network. Understanding them is key to grasping how information flows and is transformed.\\n\\n    *   **Calculus (Differential & Integral):**\\n        *   **Optimization:** This is arguably the *most critical* application. AI models learn by minimizing a \"loss function\" (an error metric). Gradient descent, the primary optimization algorithm, relies on derivatives to find the direction of steepest descent.\\n        *   **Backpropagation:** The algorithm used to train neural networks is an application of the chain rule from calculus. Understanding it is essential for debugging and designing new architectures.\\n        *   **Understanding Change:** Derivatives help you understand how a small change in one parameter affects the output, crucial for model interpretation and sensitivity analysis.\\n\\n    *   **Probability & Statistics:**\\n        *   **Uncertainty Modeling:** AI agents often operate in uncertain environments. Probability theory is used to quantify and manage this uncertainty (e.g., Bayesian networks, Markov models).\\n        *   **Data Analysis & Interpretation:** Understanding distributions, variance, correlation, and hypothesis testing is vital for pre-processing data, feature engineering, and evaluating model performance.\\n        *   **Decision Making:** Many AI agents make decisions based on probabilistic outcomes (e.g., Reinforcement Learning often involves probabilities of actions).\\n        *   **Machine Learning Algorithms:** Many algorithms (e.g., Naive Bayes, Gaussian Mixture Models, Hidden Markov Models) are explicitly statistical.\\n\\n    *   **Discrete Mathematics (Logic, Graph Theory, Combinatorics):**\\n        *   **Logic and Knowledge Representation:** Foundation for symbolic AI, expert systems, and knowledge graphs. Crucial for agents that need to reason and make logical deductions.\\n        *   **Algorithms and Complexity:** Understanding graph theory is vital for search algorithms (e.g., A*, BFS, DFS in pathfinding or state-space search), representing relationships in data, and neural network architectures. Combinatorics helps understand the complexity of problems and possible solutions.\\n        *   **Game Theory:** Important for multi-agent systems, competitive AI, and understanding strategic interactions.\\n\\n    *   **Optimization Theory:**\\n        *   While often a blend of calculus and linear algebra, it\\'s a field in itself. It\\'s about finding the \"best\" solution given constraints. This is central to training all machine learning models, resource allocation, and planning for AI agents.\\n\\n3.  **Beyond Just Using Libraries:**\\n    *   **Debugging and Troubleshooting:** When your model isn\\'t working as expected, a strong math foundation helps you identify *why*. Is it an issue with the gradient, a poorly chosen loss function, or an incorrect data transformation?\\n    *   **Developing New Algorithms:** If you want to push the boundaries of AI, you need to be able to read and understand research papers, which are heavily mathematical. Creating novel solutions requires deriving and implementing new mathematical models.\\n    *   **Interpreting Results:** Understanding the statistical significance of results, the meaning of confidence intervals, and the limitations of your model requires mathematical insight.\\n    *   **Customization and Adaptation:** Pre-built libraries are great, but real-world problems often require custom solutions. Math empowers you to adapt existing algorithms or build new ones from scratch.\\n    *   **Critical Thinking and Problem Solving:** Math trains your brain to think logically, break down complex problems, and approach them systematically – skills invaluable in any AI role.\\n\\nIn essence, math isn\\'t just a prerequisite; it\\'s the toolbox, the blueprint, and the language that allows you to truly understand, build, and innovate with AI agents. Without it, you\\'re merely a mechanic assembling parts without understanding the engineering.', type='output_text', logprobs=None)], role='assistant', status='completed', type='message'), type='message_output_item')], raw_responses=[ModelResponse(output=[ResponseOutputMessage(id='__fake_id__', content=[ResponseOutputText(annotations=[], text='Learning math is absolutely fundamental for anyone seriously pursuing a career in AI, particularly for those who want to do more than just use existing tools. Here\\'s why it\\'s crucial for AI agents:\\n\\n1.  **The Language of AI is Mathematics:**\\n    *   **Algorithms are Mathematical Constructs:** Every AI algorithm, from simple linear regression to complex deep neural networks, is fundamentally a mathematical model. Understanding the underlying math allows you to comprehend how these algorithms work, their limitations, and how to optimize them.\\n    *   **Data Representation:** Data (images, text, audio, sensor readings) is represented mathematically as vectors, matrices, and tensors. Linear algebra is the foundation for manipulating and transforming this data.\\n\\n2.  **Core Mathematical Disciplines and Their AI Applications:**\\n\\n    *   **Linear Algebra:**\\n        *   **Data Representation:** Vectors for word embeddings, matrices for images, tensors for video and complex neural network layers.\\n        *   **Transformations:** Rotations, scaling, translations vital for computer vision, robotics, and graph neural networks.\\n        *   **Dimensionality Reduction:** Techniques like PCA (Principal Component Analysis) are heavily based on eigenvalues and eigenvectors.\\n        *   **Neural Networks:** Matrix multiplications are the core operation in every layer of a neural network. Understanding them is key to grasping how information flows and is transformed.\\n\\n    *   **Calculus (Differential & Integral):**\\n        *   **Optimization:** This is arguably the *most critical* application. AI models learn by minimizing a \"loss function\" (an error metric). Gradient descent, the primary optimization algorithm, relies on derivatives to find the direction of steepest descent.\\n        *   **Backpropagation:** The algorithm used to train neural networks is an application of the chain rule from calculus. Understanding it is essential for debugging and designing new architectures.\\n        *   **Understanding Change:** Derivatives help you understand how a small change in one parameter affects the output, crucial for model interpretation and sensitivity analysis.\\n\\n    *   **Probability & Statistics:**\\n        *   **Uncertainty Modeling:** AI agents often operate in uncertain environments. Probability theory is used to quantify and manage this uncertainty (e.g., Bayesian networks, Markov models).\\n        *   **Data Analysis & Interpretation:** Understanding distributions, variance, correlation, and hypothesis testing is vital for pre-processing data, feature engineering, and evaluating model performance.\\n        *   **Decision Making:** Many AI agents make decisions based on probabilistic outcomes (e.g., Reinforcement Learning often involves probabilities of actions).\\n        *   **Machine Learning Algorithms:** Many algorithms (e.g., Naive Bayes, Gaussian Mixture Models, Hidden Markov Models) are explicitly statistical.\\n\\n    *   **Discrete Mathematics (Logic, Graph Theory, Combinatorics):**\\n        *   **Logic and Knowledge Representation:** Foundation for symbolic AI, expert systems, and knowledge graphs. Crucial for agents that need to reason and make logical deductions.\\n        *   **Algorithms and Complexity:** Understanding graph theory is vital for search algorithms (e.g., A*, BFS, DFS in pathfinding or state-space search), representing relationships in data, and neural network architectures. Combinatorics helps understand the complexity of problems and possible solutions.\\n        *   **Game Theory:** Important for multi-agent systems, competitive AI, and understanding strategic interactions.\\n\\n    *   **Optimization Theory:**\\n        *   While often a blend of calculus and linear algebra, it\\'s a field in itself. It\\'s about finding the \"best\" solution given constraints. This is central to training all machine learning models, resource allocation, and planning for AI agents.\\n\\n3.  **Beyond Just Using Libraries:**\\n    *   **Debugging and Troubleshooting:** When your model isn\\'t working as expected, a strong math foundation helps you identify *why*. Is it an issue with the gradient, a poorly chosen loss function, or an incorrect data transformation?\\n    *   **Developing New Algorithms:** If you want to push the boundaries of AI, you need to be able to read and understand research papers, which are heavily mathematical. Creating novel solutions requires deriving and implementing new mathematical models.\\n    *   **Interpreting Results:** Understanding the statistical significance of results, the meaning of confidence intervals, and the limitations of your model requires mathematical insight.\\n    *   **Customization and Adaptation:** Pre-built libraries are great, but real-world problems often require custom solutions. Math empowers you to adapt existing algorithms or build new ones from scratch.\\n    *   **Critical Thinking and Problem Solving:** Math trains your brain to think logically, break down complex problems, and approach them systematically – skills invaluable in any AI role.\\n\\nIn essence, math isn\\'t just a prerequisite; it\\'s the toolbox, the blueprint, and the language that allows you to truly understand, build, and innovate with AI agents. Without it, you\\'re merely a mechanic assembling parts without understanding the engineering.', type='output_text', logprobs=None)], role='assistant', status='completed', type='message')], usage=Usage(requests=1, input_tokens=16, input_tokens_details=InputTokensDetails(cached_tokens=0), output_tokens=1024, output_tokens_details=OutputTokensDetails(reasoning_tokens=0), total_tokens=2147), response_id=None)], final_output='Learning math is absolutely fundamental for anyone seriously pursuing a career in AI, particularly for those who want to do more than just use existing tools. Here\\'s why it\\'s crucial for AI agents:\\n\\n1.  **The Language of AI is Mathematics:**\\n    *   **Algorithms are Mathematical Constructs:** Every AI algorithm, from simple linear regression to complex deep neural networks, is fundamentally a mathematical model. Understanding the underlying math allows you to comprehend how these algorithms work, their limitations, and how to optimize them.\\n    *   **Data Representation:** Data (images, text, audio, sensor readings) is represented mathematically as vectors, matrices, and tensors. Linear algebra is the foundation for manipulating and transforming this data.\\n\\n2.  **Core Mathematical Disciplines and Their AI Applications:**\\n\\n    *   **Linear Algebra:**\\n        *   **Data Representation:** Vectors for word embeddings, matrices for images, tensors for video and complex neural network layers.\\n        *   **Transformations:** Rotations, scaling, translations vital for computer vision, robotics, and graph neural networks.\\n        *   **Dimensionality Reduction:** Techniques like PCA (Principal Component Analysis) are heavily based on eigenvalues and eigenvectors.\\n        *   **Neural Networks:** Matrix multiplications are the core operation in every layer of a neural network. Understanding them is key to grasping how information flows and is transformed.\\n\\n    *   **Calculus (Differential & Integral):**\\n        *   **Optimization:** This is arguably the *most critical* application. AI models learn by minimizing a \"loss function\" (an error metric). Gradient descent, the primary optimization algorithm, relies on derivatives to find the direction of steepest descent.\\n        *   **Backpropagation:** The algorithm used to train neural networks is an application of the chain rule from calculus. Understanding it is essential for debugging and designing new architectures.\\n        *   **Understanding Change:** Derivatives help you understand how a small change in one parameter affects the output, crucial for model interpretation and sensitivity analysis.\\n\\n    *   **Probability & Statistics:**\\n        *   **Uncertainty Modeling:** AI agents often operate in uncertain environments. Probability theory is used to quantify and manage this uncertainty (e.g., Bayesian networks, Markov models).\\n        *   **Data Analysis & Interpretation:** Understanding distributions, variance, correlation, and hypothesis testing is vital for pre-processing data, feature engineering, and evaluating model performance.\\n        *   **Decision Making:** Many AI agents make decisions based on probabilistic outcomes (e.g., Reinforcement Learning often involves probabilities of actions).\\n        *   **Machine Learning Algorithms:** Many algorithms (e.g., Naive Bayes, Gaussian Mixture Models, Hidden Markov Models) are explicitly statistical.\\n\\n    *   **Discrete Mathematics (Logic, Graph Theory, Combinatorics):**\\n        *   **Logic and Knowledge Representation:** Foundation for symbolic AI, expert systems, and knowledge graphs. Crucial for agents that need to reason and make logical deductions.\\n        *   **Algorithms and Complexity:** Understanding graph theory is vital for search algorithms (e.g., A*, BFS, DFS in pathfinding or state-space search), representing relationships in data, and neural network architectures. Combinatorics helps understand the complexity of problems and possible solutions.\\n        *   **Game Theory:** Important for multi-agent systems, competitive AI, and understanding strategic interactions.\\n\\n    *   **Optimization Theory:**\\n        *   While often a blend of calculus and linear algebra, it\\'s a field in itself. It\\'s about finding the \"best\" solution given constraints. This is central to training all machine learning models, resource allocation, and planning for AI agents.\\n\\n3.  **Beyond Just Using Libraries:**\\n    *   **Debugging and Troubleshooting:** When your model isn\\'t working as expected, a strong math foundation helps you identify *why*. Is it an issue with the gradient, a poorly chosen loss function, or an incorrect data transformation?\\n    *   **Developing New Algorithms:** If you want to push the boundaries of AI, you need to be able to read and understand research papers, which are heavily mathematical. Creating novel solutions requires deriving and implementing new mathematical models.\\n    *   **Interpreting Results:** Understanding the statistical significance of results, the meaning of confidence intervals, and the limitations of your model requires mathematical insight.\\n    *   **Customization and Adaptation:** Pre-built libraries are great, but real-world problems often require custom solutions. Math empowers you to adapt existing algorithms or build new ones from scratch.\\n    *   **Critical Thinking and Problem Solving:** Math trains your brain to think logically, break down complex problems, and approach them systematically – skills invaluable in any AI role.\\n\\nIn essence, math isn\\'t just a prerequisite; it\\'s the toolbox, the blueprint, and the language that allows you to truly understand, build, and innovate with AI agents. Without it, you\\'re merely a mechanic assembling parts without understanding the engineering.', input_guardrail_results=[], output_guardrail_results=[], context_wrapper=RunContextWrapper(context=None, usage=Usage(requests=1, input_tokens=16, input_tokens_details=InputTokensDetails(cached_tokens=0), output_tokens=1024, output_tokens_details=OutputTokensDetails(reasoning_tokens=0), total_tokens=2147)), _last_agent=Agent(name='MathAgent', handoff_description=None, tools=[], mcp_servers=[], mcp_config={}, instructions='You are a helpful math assistant.', prompt=None, handoffs=[], model=<agents.models.openai_chatcompletions.OpenAIChatCompletionsModel object at 0x78430578a890>, model_settings=ModelSettings(temperature=None, top_p=None, frequency_penalty=None, presence_penalty=None, tool_choice=None, parallel_tool_calls=None, truncation=None, max_tokens=None, reasoning=None, metadata=None, store=None, include_usage=None, response_include=None, extra_query=None, extra_body=None, extra_headers=None, extra_args=None), input_guardrails=[], output_guardrails=[], output_type=None, hooks=None, tool_use_behavior='run_llm_again', reset_tool_choice=True))"
            ]
          },
          "execution_count": 21,
          "metadata": {},
          "output_type": "execute_result"
        }
      ],
      "source": [
        "result"
      ]
    },
    {
      "cell_type": "markdown",
      "metadata": {
        "id": "1m8xnCs4KKG5"
      },
      "source": [
        "# 💬 Step 3: Running Agent Asynchronously"
      ]
    },
    {
      "cell_type": "code",
      "execution_count": null,
      "metadata": {
        "colab": {
          "base_uri": "https://localhost:8080/"
        },
        "collapsed": true,
        "id": "jZA-iSR9KMJ9",
        "outputId": "a88992a8-ea32-4531-cdbf-27d30afc5ba1"
      },
      "outputs": [
        {
          "name": "stdout",
          "output_type": "stream",
          "text": [
            "Recursion in programming is a powerful concept where a function calls itself, directly or indirectly, to solve a problem. Think of it as defining something in terms of itself, but with a built-in \"stop\" condition.\n",
            "\n",
            "To understand recursion, you need to grasp two main components:\n",
            "\n",
            "1.  **Base Case:** This is the essential condition that stops the recursion. Without a base case, the function would call itself indefinitely, leading to an infinite loop (and eventually a \"stack overflow\" error). The base case provides a direct answer for the simplest version of the problem.\n",
            "2.  **Recursive Step:** This is the part where the function calls itself with a modified (usually smaller or simpler) input. The idea is that you break down the problem into smaller, similar subproblems until you reach the base case.\n",
            "\n",
            "### How Recursion Works (Under the Hood): The Call Stack\n",
            "\n",
            "When a function is called, the computer allocates a block of memory on something called the **call stack**. This block, known as a **stack frame**, stores information about that function call (its local variables, parameters, and the point in the code to return to after the function finishes).\n",
            "\n",
            "When a recursive function calls itself, a new stack frame is pushed onto the stack for each call. This continues until the base case is reached. Once the base case returns a value, the stack frames start to \"unwind\" one by one. Each function call finishes its execution using the return value from the call beneath it, until the very first call completes and returns the final result.\n",
            "\n",
            "### Analogy: Matryoshka Dolls (Russian Nesting Dolls)\n",
            "\n",
            "Imagine you have a set of Matryoshka dolls.\n",
            "*   **The Problem:** Find the smallest doll inside.\n",
            "*   **Recursive Step:** If the doll in your hand isn't the smallest, open it.\n",
            "*   **Base Case:** If the doll you're holding *is* the smallest (you can't open it further), you've found your answer.\n",
            "\n",
            "You keep opening dolls (recursive step) until you hit the smallest one (base case). Then you know the answer for that doll, and you can close up the larger dolls, one by one, until you've closed all of them, having found the smallest.\n",
            "\n",
            "### When to Use Recursion (Advantages):\n",
            "\n",
            "1.  **Elegance and Readability:** For problems that are naturally self-similar or can be defined in terms of smaller versions of themselves, recursive solutions can be very clean, intuitive, and concise.\n",
            "2.  **Solving Specific Problem Types:**\n",
            "    *   **Tree and Graph Traversal:** Many algorithms for traversing data structures like trees (e.g., depth-first search, in-order/pre-order/post-order traversals) are inherently recursive.\n",
            "    *   **Divide and Conquer Algorithms:** Algorithms like Merge Sort, Quick Sort, and binary search break a problem into smaller subproblems, solve them recursively, and then combine the results.\n",
            "    *   **Fractals:** Generating fractals is often done recursively.\n",
            "\n",
            "### When Not to Use Recursion (Disadvantages and Considerations):\n",
            "\n",
            "1.  **Performance Overhead:** Each function call has some overhead (managing the call stack, saving/restoring registers). For simple problems, an iterative (loop-based) solution is often faster and more memory-efficient.\n",
            "2.  **Memory Usage (Stack Overflow):** If the recursion goes too deep (too many nested calls), it can exhaust the available memory on the call stack, leading to a \"Stack Overflow Error.\" This is common if the base case is not reachable or the problem size is too large for the recursion depth.\n",
            "3.  **Debugging:** Tracing the execution flow of recursive functions can be more challenging than iterative ones, as you're jumping in and out of the same function.\n",
            "4.  **Tail Recursion Optimization (Advanced):** Some compilers and interpreters can optimize a specific type of recursion called \"tail recursion\" to behave more like an iteration, reducing the stack overhead. However, not all languages or environments support this.\n",
            "\n",
            "### Example: Calculating Factorial\n",
            "\n",
            "The factorial of a non-negative integer `n`, denoted `n!`, is the product of all positive integers less than or equal to `n`.\n",
            "*   `5! = 5 * 4 * 3 * 2 * 1 = 120`\n",
            "*   `0! = 1` (by definition, this is our base case)\n",
            "\n",
            "Notice that `5! = 5 * (4!)`, and `4! = 4 * (3!)`, and so on. This shows the recursive nature.\n",
            "\n",
            "**Recursive Function in Python:**\n",
            "\n",
            "```python\n",
            "def factorial(n):\n",
            "    # 1. Base Case:\n",
            "    if n == 0:\n",
            "        return 1\n",
            "    # 2. Recursive Step:\n",
            "    else:\n",
            "        return n * factorial(n - 1)\n",
            "\n",
            "# Let's trace factorial(3):\n",
            "# factorial(3)\n",
            "#   -> return 3 * factorial(2)\n",
            "#                   -> return 2 * factorial(1)\n",
            "#                                   -> return 1 * factorial(0)\n",
            "#                                                   -> return 1 (Base case reached!)\n",
            "#                                   -> returns 1 * 1 = 1\n",
            "#                   -> returns 2 * 1 = 2\n",
            "#   -> returns 3 * 2 = 6\n",
            "\n",
            "print(factorial(5))  # Output: 120\n",
            "print(factorial(0))  # Output: 1\n",
            "# print(factorial(-1)) # This would lead to infinite recursion and a Stack Overflow!\n",
            "```\n",
            "\n",
            "### In Summary:\n",
            "\n",
            "Recursion is a powerful and elegant technique for solving problems that can be broken down into smaller, self-similar subproblems. It's crucial to always define a clear **base case** to prevent infinite loops. While it offers readability and simplicity for certain problem domains, be mindful of its potential performance and memory overhead compared to iterative solutions.\n"
          ]
        }
      ],
      "source": [
        "import asyncio\n",
        "\n",
        "async def main():\n",
        "\n",
        "    result: Runner = await Runner.run(math_agent, \"Tell me about recursion in programming.\")\n",
        "\n",
        "    print(result.final_output)\n",
        "\n",
        "\n",
        "asyncio.run(main())"
      ]
    },
    {
      "cell_type": "markdown",
      "metadata": {
        "id": "7RKgPtw2XlJs"
      },
      "source": [
        "## Example 1:\n",
        "### 👨‍🍳🍽️ Recipe Bot"
      ]
    },
    {
      "cell_type": "code",
      "execution_count": null,
      "metadata": {
        "id": "0LzWsFBvapjz"
      },
      "outputs": [],
      "source": [
        "set_tracing_disabled(disabled=True)\n",
        "\n",
        "# Client Setup for Connecting to Gemini\n",
        "external_client:AsyncOpenAI = AsyncOpenAI(\n",
        "    api_key=gemini_api_key,\n",
        "    base_url=\"https://generativelanguage.googleapis.com/v1beta/openai/\",\n",
        ")\n",
        "\n",
        "#Initialize model\n",
        "model:OpenAIChatCompletionsModel = OpenAIChatCompletionsModel(\n",
        "    model=\"gemini-2.5-flash\",\n",
        "    openai_client=external_client\n",
        ")\n",
        "\n",
        "def main():\n",
        "  # Create the Recipe Agent\n",
        "  agent = Agent(\n",
        "      name=\"RecipeBot\",\n",
        "      instructions=(\n",
        "          \"\"\"You are a helpful recipe assistant. A user will give you a few ingredients\n",
        "          they have at home, and you will suggest one simple and quick recipe using only those items.\n",
        "          Keep it short, step-by-step, and easy for beginners to cook.\"\"\"\n",
        "      ),\n",
        "      model=model\n",
        "  )\n",
        "\n",
        "  print(\"\\n🍳 What can I cook today?\\n\")\n",
        "  ingredients = \"eggs, tomatoes, onions, and bread\"\n",
        "  result:Runner = Runner.run_sync(agent, f\"I have these at home: {ingredients}. What can I cook?\")\n",
        "\n",
        "  print(result.final_output)"
      ]
    },
    {
      "cell_type": "code",
      "execution_count": null,
      "metadata": {
        "colab": {
          "base_uri": "https://localhost:8080/"
        },
        "id": "DyfXjUXsawYr",
        "outputId": "13641075-1daf-4798-ee16-07453304428c"
      },
      "outputs": [
        {
          "name": "stdout",
          "output_type": "stream",
          "text": [
            "\n",
            "🍳 What can I cook today?\n",
            "\n",
            "Here's a quick and simple recipe for you:\n",
            "\n",
            "**Tomato & Onion Scramble on Toast**\n",
            "\n",
            "This recipe makes 1 serving.\n",
            "\n",
            "**You'll need:**\n",
            "*   2 eggs\n",
            "*   1/4 onion\n",
            "*   1/2 tomato\n",
            "*   2 slices bread\n",
            "*   A little cooking oil or butter (optional, but recommended)\n",
            "*   Salt and pepper (optional, but recommended)\n",
            "\n",
            "**Steps:**\n",
            "\n",
            "1.  **Prep:** Dice the onion finely. Dice the tomato into small pieces.\n",
            "2.  **Sauté Veggies:** Heat a small pan over medium heat. Add a tiny bit of oil or butter if you have it. Add the diced onion and cook for 2-3 minutes until it starts to soften. Then add the diced tomato and cook for another 1-2 minutes until slightly tender.\n",
            "3.  **Scramble Eggs:** While the veggies cook, crack your eggs into a bowl, add a pinch of salt and pepper (if using), and whisk them lightly with a fork. Pour the whisked eggs into the pan with the cooked vegetables.\n",
            "4.  **Cook & Toast:** Let the eggs set for a few seconds, then gently push and fold them with a spatula until they are cooked to your liking (soft scrambled). At the same time, pop your bread into a toaster or toast it in another pan until golden.\n",
            "5.  **Serve:** Spoon the egg and vegetable mixture onto your toasted bread. Enjoy!\n"
          ]
        }
      ],
      "source": [
        "if __name__ == \"__main__\":\n",
        "    main()"
      ]
    }
  ],
  "metadata": {
    "colab": {
      "provenance": []
    },
    "kernelspec": {
      "display_name": "Python 3",
      "name": "python3"
    },
    "language_info": {
      "name": "python"
    }
  },
  "nbformat": 4,
  "nbformat_minor": 0
}