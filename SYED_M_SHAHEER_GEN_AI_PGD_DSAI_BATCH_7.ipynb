{
  "nbformat": 4,
  "nbformat_minor": 0,
  "metadata": {
    "colab": {
      "provenance": [],
      "authorship_tag": "ABX9TyPax7Di0YWmaNkHWbdXMTfb",
      "include_colab_link": true
    },
    "kernelspec": {
      "name": "python3",
      "display_name": "Python 3"
    },
    "language_info": {
      "name": "python"
    }
  },
  "cells": [
    {
      "cell_type": "markdown",
      "metadata": {
        "id": "view-in-github",
        "colab_type": "text"
      },
      "source": [
        "<a href=\"https://colab.research.google.com/github/Syedshaheer1104/learn-agentic-ai/blob/main/SYED_M_SHAHEER_GEN_AI_PGD_DSAI_BATCH_7.ipynb\" target=\"_parent\"><img src=\"https://colab.research.google.com/assets/colab-badge.svg\" alt=\"Open In Colab\"/></a>"
      ]
    },
    {
      "cell_type": "markdown",
      "source": [
        "# SYED MUHAMMAD SHAHEER\n",
        "# PGD BATCH 7 DS&AI\n",
        "# syedshaheer94@gmail.com\n",
        "# 03485881406"
      ],
      "metadata": {
        "id": "axDtHFeLpPZw"
      }
    },
    {
      "cell_type": "markdown",
      "source": [
        "## Question 1"
      ],
      "metadata": {
        "id": "fvGMLd6dpiUo"
      }
    },
    {
      "cell_type": "markdown",
      "source": [
        "The OpenAI Agents SDK enables to build agentic AI apps in a lightweight, easy-to-use package with very few abstractions. It's a production-ready upgrade for agents. The Agents SDK has a very small set of primitives:\n",
        "\n",
        "1. Agents\n",
        "An Agent is the fundamental building block. It's an LLM (Large Language Model) that has been configured with a specific purpose, a set of instructions, and a collection of tools it can use to accomplish its tasks. Think of it as a specialized, single-purpose employee in a company. Instead of a generic bot, you can create an agent that excels at one job.\n",
        "\n",
        "Real-world Example: A \"Customer Service Agent\" is designed to handle common customer inquiries. It has a core instruction to \"answer questions about product features and order status.\" Its tools include a check order status function that connects to an e-commerce database and a send faq link function that provides a link to the company's FAQ page. When a user asks, \"Where is my order?\", the agent uses its check_order_status tool to find the information and then replies to the user.\n",
        "\n",
        "2. Handoffs\n",
        "A Handoff is the mechanism that allows one agent to delegate a task to another, more specialized agent. This is crucial for building complex systems. Instead of one large, complex agent that tries to do everything, you can create a system of small, specialized agents that collaborate.\n",
        "\n",
        "Real-world Example: Imagine a multi-agent system for a travel agency.\n",
        "\n",
        "A \"Travel Planner Agent\" is the initial point of contact. Its job is to understand the user's overall goal.\n",
        "\n",
        "If the user says, \"I want to book a trip to Tokyo,\" the Travel Planner recognizes that it needs help with flights and accommodations.\n",
        "\n",
        "It uses a Handoff to pass control of the conversation and all relevant context (like the destination and dates) to a \"Flight Booker Agent.\"\n",
        "\n",
        "The Flight Booker Agent, which is an expert at its task, takes over to search for flights and complete the booking. Once done, it can hand off to a \"Hotel Booker Agent\" or back to the original Travel Planner.\n",
        "\n",
        "3. Guardrails\n",
        "Guardrails are safety mechanisms that validate inputs and outputs to ensure agents behave as expected. They act as a protective layer, running checks in parallel with the agent's main processing loop. This can prevent agents from receiving or producing inappropriate content.\n",
        "\n",
        "Real-world Example: A \"Youth Education Agent\" is designed to help students with their homework. A guardrail is put in place to ensure that any user input is on an academic topic.\n",
        "\n",
        "Input Guardrail: If a student types a query about something non-academic or inappropriate, the input guardrail immediately flags it. The agent then rejects the query and responds with a message like, \"I'm sorry, I can only help with school-related questions.\" It has a tripwire mechanism to handle queries.\n",
        "\n",
        "Output Guardrail: Similarly, an output guardrail can check the agent's generated response to make sure it doesn't contain any personal information or is otherwise compliant with safety policies before it's delivered to the user.\n",
        "\n",
        "4. Sessions\n",
        "A Session is the container that maintains the conversation history and state for a single run of an agent or a multi-agent system. It automatically handles memory, ensuring that agents have the necessary context from previous interactions within the same conversation to make informed decisions.\n",
        "\n",
        "Real-world Example: In a conversation with the \"Customer Service Agent,\" a user first asks, \"What's my order status?\" The agent replies, providing the tracking number. The user then follows up with, \"Can you tell me the shipping company?\" Because the entire conversation is stored in the Session, the agent doesn't need the user to repeat the tracking number. The agent can recall the previous context, find the shipping company from the same order data, and provide the correct answer. This continuous memory makes the interaction feel natural and seamless."
      ],
      "metadata": {
        "id": "3jVdP_5tqRFF"
      }
    },
    {
      "cell_type": "markdown",
      "source": [
        "# Question 2\n"
      ],
      "metadata": {
        "id": "gCcn-Rupr-nv"
      }
    },
    {
      "cell_type": "code",
      "source": [
        "import json\n",
        "from typing import Dict, Any\n",
        "\n",
        "\n",
        "class Agent:\n",
        "    \"\"\"Represents a conceptual agent with a name, instructions, and tools/handoffs.\"\"\"\n",
        "    def __init__(self, name: str, instructions: str, handoffs: list = None):\n",
        "        self.name = name\n",
        "        self.instructions = instructions\n",
        "        self.handoffs = handoffs or []\n",
        "\n",
        "class Runner:\n",
        "    \"\"\"Manages the execution of an agent workflow.\"\"\"\n",
        "    def run(self, agent: Agent, user_input: str) -> str:\n",
        "        # Simulate the handoff chain directly.\n",
        "\n",
        "        print(f\"--- Workflow Started ---\")\n",
        "\n",
        "        # Step 1: Input to Manager Agent\n",
        "        print(f\"[{agent.name}]: Received initial request: '{user_input}'\")\n",
        "\n",
        "        # Simulate the Manager's refining logic\n",
        "        refined_task = f\"Develop a comprehensive plan for a student management system, including both web and mobile components, based on the user's request: '{user_input}'\"\n",
        "        print(f\"[{agent.name}]: Refined task for the next agent: '{refined_task}'\")\n",
        "\n",
        "        # Hand off to the Web Developer\n",
        "        next_agent = self.get_handoff_agent(agent, 'Web Developer')\n",
        "        if not next_agent:\n",
        "            return f\"[{agent.name}]: Handoff failed. No 'Web Developer' found.\"\n",
        "\n",
        "        # Step 2: Handoff to Web Developer\n",
        "        web_developer_agent = next_agent\n",
        "        print(f\"\\n--- Handoff to Web Developer ---\")\n",
        "\n",
        "        # Simulate Web Developer's processing\n",
        "        web_plan = self.run_web_developer(web_developer_agent, refined_task)\n",
        "        print(f\"[{web_developer_agent.name}]: Generated web development plan.\")\n",
        "\n",
        "        # Hand off to the Mobile App Developer\n",
        "        next_agent = self.get_handoff_agent(web_developer_agent, 'Mobile App Developer')\n",
        "        if not next_agent:\n",
        "            return f\"[{web_developer_agent.name}]: Handoff failed. No 'Mobile App Developer' found.\"\n",
        "\n",
        "        # Step 3: Handoff to Mobile App Developer\n",
        "        mobile_developer_agent = next_agent\n",
        "        print(f\"\\n--- Handoff to Mobile App Developer ---\")\n",
        "\n",
        "        final_output = self.run_mobile_developer(mobile_developer_agent, web_plan, refined_task)\n",
        "\n",
        "        print(f\"\\n--- Workflow Complete ---\")\n",
        "        return final_output\n",
        "\n",
        "    def get_handoff_agent(self, current_agent: Agent, target_name: str) -> Agent or None:\n",
        "        \"\"\"Finds the target agent from the current agent's handoff list.\"\"\"\n",
        "        for handoff_agent in current_agent.handoffs:\n",
        "            if handoff_agent.name == target_name:\n",
        "                return handoff_agent\n",
        "        return None\n",
        "\n",
        "    def run_web_developer(self, agent: Agent, task: str) -> Dict[str, Any]:\n",
        "        \"\"\"Simulates the Web Developer agent's logic and output.\"\"\"\n",
        "        # The Web Developer creates a structured plan\n",
        "        web_plan = {\n",
        "            \"web_plan\": {\n",
        "                \"description\": \"Student management website with dashboard for students and staff.\",\n",
        "                \"features\": [\n",
        "                    \"User authentication (student/staff login)\",\n",
        "                    \"Student dashboard to view grades, schedule, and assignments\",\n",
        "                    \"Staff dashboard to manage student records\",\n",
        "                    \"Responsive design for desktop and tablet\"\n",
        "                ],\n",
        "                \"technologies\": [\"React\", \"Node.js\", \"MongoDB\"]\n",
        "            },\n",
        "            \"from_agent\": agent.name,\n",
        "            \"original_task\": task\n",
        "        }\n",
        "        return web_plan\n",
        "\n",
        "    def run_mobile_developer(self, agent: Agent, web_plan: Dict[str, Any], original_task: str) -> str:\n",
        "        \"\"\"Simulates the Mobile App Developer agent's logic and output.\"\"\"\n",
        "        mobile_plan = {\n",
        "            \"mobile_plan\": {\n",
        "                \"description\": \"Companion mobile app for student management.\",\n",
        "                \"features\": [\n",
        "                    \"Push notifications for announcements and grade updates\",\n",
        "                    \"Offline access to schedules and contacts\",\n",
        "                    \"Mobile-optimized grade and attendance viewing\"\n",
        "                ],\n",
        "                \"technologies\": [\"React Native\", \"Firebase\"]\n",
        "            },\n",
        "            \"from_agent\": agent.name,\n",
        "            \"web_plan_context\": web_plan,\n",
        "            \"original_task\": original_task\n",
        "        }\n",
        "\n",
        "        final_message = (\n",
        "            f\"The task '{original_task}' has been processed.\\n\\n\"\n",
        "            f\"Here is the final output from the {agent.name}:\\n\\n\"\n",
        "            f\"Web Development Plan:\\n\"\n",
        "            f\"Description: {web_plan['web_plan']['description']}\\n\"\n",
        "            f\"Features: {', '.join(web_plan['web_plan']['features'])}\\n\"\n",
        "            f\"Technologies: {', '.join(web_plan['web_plan']['technologies'])}\\n\\n\"\n",
        "            f\"Mobile App Development Plan:\\n\"\n",
        "            f\"Description: {mobile_plan['mobile_plan']['description']}\\n\"\n",
        "            f\"Features: {', '.join(mobile_plan['mobile_plan']['features'])}\\n\"\n",
        "            f\"Technologies: {', '.join(mobile_plan['mobile_plan']['technologies'])}\\n\"\n",
        "        )\n",
        "        print(f\"[{agent.name}]: Generated final output based on the web plan and original task.\")\n",
        "        return final_message\n",
        "\n",
        "# ----------------- Agent Setup -----------------\n",
        "\n",
        "# Define the agents\n",
        "mobile_developer_agent = Agent(\n",
        "    name=\"Mobile App Developer\",\n",
        "    instructions=\"Generate a plan for a mobile application based on the web development context provided.\"\n",
        ")\n",
        "\n",
        "web_developer_agent = Agent(\n",
        "    name=\"Web Developer\",\n",
        "    instructions=\"Refine the task and generate a web development plan.\",\n",
        "    handoffs=[mobile_developer_agent] # Handoff to the next agent in the chain\n",
        ")\n",
        "\n",
        "manager_agent = Agent(\n",
        "    name=\"Manager\",\n",
        "    instructions=\"Analyze the initial request and delegate it to the appropriate specialized agent.\",\n",
        "    handoffs=[web_developer_agent] # Initial handoff to the web developer\n",
        ")\n",
        "\n",
        "# ----------------- Execution -----------------\n",
        "\n",
        "# Instantiate the Runner\n",
        "runner = Runner()\n",
        "\n",
        "# The initial input from the user\n",
        "user_input = \"Create a student management website for me.\"\n",
        "\n",
        "# Run the entire workflow starting with the Manager agent\n",
        "final_result = runner.run(manager_agent, user_input)\n",
        "\n",
        "# Print the final output\n",
        "print(\"\\n\" + final_result)"
      ],
      "metadata": {
        "colab": {
          "base_uri": "https://localhost:8080/"
        },
        "id": "3Ld8XK04pnTx",
        "outputId": "cdc52903-dede-4e64-da87-586b8450a19f"
      },
      "execution_count": 1,
      "outputs": [
        {
          "output_type": "stream",
          "name": "stdout",
          "text": [
            "--- Workflow Started ---\n",
            "[Manager]: Received initial request: 'Create a student management website for me.'\n",
            "[Manager]: Refined task for the next agent: 'Develop a comprehensive plan for a student management system, including both web and mobile components, based on the user's request: 'Create a student management website for me.''\n",
            "\n",
            "--- Handoff to Web Developer ---\n",
            "[Web Developer]: Generated web development plan.\n",
            "\n",
            "--- Handoff to Mobile App Developer ---\n",
            "[Mobile App Developer]: Generated final output based on the web plan and original task.\n",
            "\n",
            "--- Workflow Complete ---\n",
            "\n",
            "The task 'Develop a comprehensive plan for a student management system, including both web and mobile components, based on the user's request: 'Create a student management website for me.'' has been processed.\n",
            "\n",
            "Here is the final output from the Mobile App Developer:\n",
            "\n",
            "Web Development Plan:\n",
            "Description: Student management website with dashboard for students and staff.\n",
            "Features: User authentication (student/staff login), Student dashboard to view grades, schedule, and assignments, Staff dashboard to manage student records, Responsive design for desktop and tablet\n",
            "Technologies: React, Node.js, MongoDB\n",
            "\n",
            "Mobile App Development Plan:\n",
            "Description: Companion mobile app for student management.\n",
            "Features: Push notifications for announcements and grade updates, Offline access to schedules and contacts, Mobile-optimized grade and attendance viewing\n",
            "Technologies: React Native, Firebase\n",
            "\n"
          ]
        }
      ]
    },
    {
      "cell_type": "markdown",
      "source": [
        "#Question 3"
      ],
      "metadata": {
        "id": "WA_p8JB0wUi9"
      }
    },
    {
      "cell_type": "code",
      "source": [
        "import re\n",
        "from typing import Callable, Dict, Any\n",
        "\n",
        "class ToolManager:\n",
        "    \"\"\"Manages the registration and execution of tools for an agent.\"\"\"\n",
        "    def __init__(self):\n",
        "        self.tools: Dict[str, Callable] = {}\n",
        "\n",
        "    def register_tool(self, name: str, func: Callable):\n",
        "        \"\"\"Registers a function as a tool with a given name.\"\"\"\n",
        "        self.tools[name] = func\n",
        "        print(f\"Tool '{name}' registered successfully.\")\n",
        "\n",
        "    def use_tool(self, name: str, *args, **kwargs) -> Any:\n",
        "        \"\"\"Executes a registered tool.\"\"\"\n",
        "        if name in self.tools:\n",
        "            print(f\"Agent is using the tool '{name}' with arguments: {args}, {kwargs}\")\n",
        "            return self.tools[name](*args, **kwargs)\n",
        "        else:\n",
        "            raise ValueError(f\"Tool '{name}' not found.\")\n",
        "\n",
        "def add(a: float, b: float) -> float:\n",
        "    \"\"\"A tool to perform addition.\"\"\"\n",
        "    return a + b\n",
        "\n",
        "def subtract(a: float, b: float) -> float:\n",
        "    \"\"\"A tool to perform subtraction.\"\"\"\n",
        "    return a - b\n",
        "\n",
        "def divide(a: float, b: float) -> float:\n",
        "    \"\"\"A tool to perform division.\"\"\"\n",
        "    if b == 0:\n",
        "        return \"Cannot divide by zero.\"\n",
        "    return a / b\n",
        "\n",
        "class SimpleToolAgent:\n",
        "    \"\"\"A conceptual agent that can use registered tools.\"\"\"\n",
        "    def __init__(self, tool_manager: ToolManager):\n",
        "        self.tool_manager = tool_manager\n",
        "\n",
        "    def process_query(self, query: str) -> str:\n",
        "        \"\"\"Processes a query and uses a tool if required.\"\"\"\n",
        "        query = query.lower().strip()\n",
        "        print(f\"Agent received query: '{query}'\")\n",
        "\n",
        "        # Simplified logic to determine tool and arguments\n",
        "        if '+' in query:\n",
        "            parts = re.findall(r'\\d+', query)\n",
        "            if len(parts) == 2:\n",
        "                a, b = float(parts[0]), float(parts[1])\n",
        "                result = self.tool_manager.use_tool('add', a, b)\n",
        "                return f\"The result of {a} + {b} is: {result}\"\n",
        "        elif '-' in query:\n",
        "            parts = re.findall(r'\\d+', query)\n",
        "            if len(parts) == 2:\n",
        "                a, b = float(parts[0]), float(parts[1])\n",
        "                result = self.tool_manager.use_tool('subtract', a, b)\n",
        "                return f\"The result of {a} - {b} is: {result}\"\n",
        "        elif '/' in query:\n",
        "            parts = re.findall(r'\\d+', query)\n",
        "            if len(parts) == 2:\n",
        "                a, b = float(parts[0]), float(parts[1])\n",
        "                result = self.tool_manager.use_tool('divide', a, b)\n",
        "                return f\"The result of {a} / {b} is: {result}\"\n",
        "        else:\n",
        "            return \"Sorry, I can't find a suitable tool for that query.\"\n",
        "\n",
        "# ----------------- Setup and Execution -----------------\n",
        "\n",
        "# 1. Create a ToolManager and register the tools\n",
        "tool_manager = ToolManager()\n",
        "tool_manager.register_tool('add', add)\n",
        "tool_manager.register_tool('subtract', subtract)\n",
        "tool_manager.register_tool('divide', divide)\n",
        "\n",
        "# 2. Create the agent, passing in the tool manager\n",
        "agent = SimpleToolAgent(tool_manager)\n",
        "\n",
        "# 3. Pass the input query to the agent\n",
        "user_input = \"What is 2 + 2?\"\n",
        "final_response = agent.process_query(user_input)\n",
        "\n",
        "# 4. Print the final result\n",
        "print(f\"\\nFinal Agent Response: {final_response}\")"
      ],
      "outputs": [
        {
          "output_type": "stream",
          "name": "stdout",
          "text": [
            "Tool 'add' registered successfully.\n",
            "Tool 'subtract' registered successfully.\n",
            "Tool 'divide' registered successfully.\n",
            "Agent received query: 'what is 2 + 2?'\n",
            "Agent is using the tool 'add' with arguments: (2.0, 2.0), {}\n",
            "\n",
            "Final Agent Response: The result of 2.0 + 2.0 is: 4.0\n"
          ]
        }
      ],
      "execution_count": 2,
      "metadata": {
        "colab": {
          "base_uri": "https://localhost:8080/"
        },
        "id": "gdrmVK-jxCUt",
        "outputId": "d3e9b325-1829-42a8-c841-16666723e117"
      }
    },
    {
      "cell_type": "markdown",
      "source": [
        "# Question 4\n"
      ],
      "metadata": {
        "id": "D1zOteI-uaxE"
      }
    },
    {
      "cell_type": "markdown",
      "source": [
        "In n8n, there are a few primary node types that serve as the building blocks for any workflow. They generally fall into these distinct categories:\n",
        "\n",
        "1. Trigger Nodes\n",
        "These are the essential starting points of every workflow. A workflow cannot run without a trigger.They listen for a specific event to occur, which then initiates the entire sequence of actions that follow.\n",
        "\n",
        "They are used in different scenerios:\n",
        "\n",
        "Webhook: When you want a workflow to be triggered by an external application sending data to a specific URL. This is perfect for a web app or chatbot.\n",
        "\n",
        "App-Specific Trigger: When user wants to start a workflow based on an event within a service, such as \"new email in Gmail,\" \"new row in Google Sheets,\" or \"new file uploaded to Dropbox.\"\n",
        "\n",
        "Manual/Schedule Trigger: When user wants to manually start a workflow or run it at a set interval (e.g., every day at 9 AM).\n",
        "\n",
        "2. App & Integration Nodes\n",
        "These are the core workhorses of n8n, representing connections to over 1,000 different applications and services.They perform specific actions within an application, such as fetching data, creating records, updating information, or sending messages. After a trigger has run, user can use these nodes to interact with other tools. For example, a \"Gmail\" node to send an email, a \"Stripe\" node to create a new customer, or a \"Slack\" node to post a message.\n",
        "\n",
        "3. Logic & Data Transformation Nodes\n",
        "These nodes don't interact with external applications but instead manipulate the data flowing through the workflow.They control the flow of execution and transform the data as needed.\n",
        "\n",
        "Conditional (If): To create branching paths based on whether a condition is true or false. For instance, if an email subject contains \"Urgent,\" send a Slack notification.\n",
        "\n",
        "Data Manipulation (Set, Split, Merge): To add, remove, or modify data fields. The Set node, for example, is great for renaming variables or creating new ones.\n",
        "\n",
        "Code: The Code node allows you to write custom JavaScript or Python code for complex logic that isn't available in other nodes.\n",
        "\n",
        "4. AI Nodes\n",
        "A specialized category of nodes built to connect directly with AI services. They provide a simplified interface for interacting with LLMs and other AI models. They allow you to define prompts, manage conversation memory, and leverage AI tools. To build AI-powered workflows like chatbots, content generators, sentiment analysis tools, or the multi-agent system. Nodes for services like OpenAI and Google Gemini fall into this category.\n",
        "\n",
        "n8n combines these node types to build complex, multi-step automations that can connect with virtually any service, transform data on the fly, and even make intelligent decisions using AI."
      ],
      "metadata": {
        "id": "WvtxWaV6vMid"
      }
    },
    {
      "cell_type": "markdown",
      "source": [
        "# Question 5"
      ],
      "metadata": {
        "id": "X8Xojq0g0Utb"
      }
    },
    {
      "cell_type": "code",
      "source": [
        "from mcp.server.fastmcp import FastMCP\n",
        "\n",
        "# Initialize FastMCP server with enhanced metadata for 2025-06-18 spec\n",
        "mcp = FastMCP(\n",
        "    name=\"hello-server\",\n",
        "    stateless_http=True\n",
        ")\n",
        "\n",
        "mcp_app = mcp.streamable_http_app()"
      ],
      "metadata": {
        "id": "5LzZA6gF0Wga"
      },
      "execution_count": 4,
      "outputs": []
    }
  ]
}